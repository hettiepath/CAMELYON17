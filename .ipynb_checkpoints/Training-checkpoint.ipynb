{
 "cells": [
  {
   "cell_type": "code",
   "execution_count": 1,
   "metadata": {
    "collapsed": false
   },
   "outputs": [
    {
     "name": "stderr",
     "output_type": "stream",
     "text": [
      "/Users/surajnair/anaconda/envs/py27/lib/python2.7/site-packages/matplotlib/font_manager.py:273: UserWarning: Matplotlib is building the font cache using fc-list. This may take a moment.\n",
      "  warnings.warn('Matplotlib is building the font cache using fc-list. This may take a moment.')\n"
     ]
    }
   ],
   "source": [
    "from __future__ import division, absolute_import\n",
    "import numpy as np\n",
    "import tensorflow as tf \n",
    "\n",
    "import skimage\n",
    "from skimage import io\n",
    "import tflearn\n",
    "from tflearn.data_utils import shuffle, to_categorical\n",
    "from tflearn.layers.core import input_data, dropout, fully_connected\n",
    "from tflearn.layers.conv import conv_2d, max_pool_2d\n",
    "from tflearn.layers.estimator import regression\n",
    "from tflearn.data_preprocessing import ImagePreprocessing\n",
    "from tflearn.data_augmentation import ImageAugmentation\n",
    "\n",
    "DATAPATH = \"/Users/surajnair/Downloads/8Z455Ls09xG9w3esy18qnFOGrCzu0umj/\"\n",
    "DATAPATH2 = \"/Users/surajnair/Downloads/LeySk8h49gbExZSvxpQXitwfWkYbgzA8/\"\n",
    "DATAPATH3 = \"/Users/surajnair/Downloads/\"\n"
   ]
  },
  {
   "cell_type": "code",
   "execution_count": 2,
   "metadata": {
    "collapsed": false
   },
   "outputs": [],
   "source": [
    "Xtrain, Ytrain, Xtest, Ytest = [], [], [], []\n",
    "\n",
    "with open(DATAPATH + \"train.txt\") as f:\n",
    "    dt = f.readlines()\n",
    "for fl in dt:\n",
    "    fl_sp = fl.split()\n",
    "    name = fl_sp[0]\n",
    "    Xtrain.append(io.imread(DATAPATH3 + name))\n",
    "    y = np.zeros((4,))\n",
    "    y[int(fl_sp[1])] = 1\n",
    "    Ytrain.append(y)\n",
    "    \n",
    "with open(DATAPATH2 + \"train.txt\") as f:\n",
    "    dt = f.readlines()\n",
    "for fl in dt:\n",
    "    fl_sp = fl.split()\n",
    "    name = fl_sp[0]\n",
    "    Xtrain.append(io.imread(DATAPATH3+ name))\n",
    "    y = np.zeros((4,))\n",
    "    if float(fl_sp[1]) == 0:\n",
    "        y[0] = 1\n",
    "    else:\n",
    "        y[int(fl_sp[1])] = 1\n",
    "    Ytrain.append(y)\n",
    "    \n",
    "with open(DATAPATH + \"test.txt\") as f:\n",
    "    dt = f.readlines()\n",
    "for fl in dt:\n",
    "    fl_sp = fl.split()\n",
    "    name = fl_sp[0]\n",
    "    Xtest.append(io.imread(DATAPATH3+ name))\n",
    "    y = np.zeros((4,))\n",
    "    y[int(fl_sp[1])] = 1\n",
    "    Ytest.append(y)\n",
    "    \n",
    "with open(DATAPATH2 + \"test.txt\") as f:\n",
    "    dt = f.readlines()\n",
    "for fl in dt:\n",
    "    fl_sp = fl.split()\n",
    "    name = fl_sp[0]\n",
    "    Xtest.append(io.imread(DATAPATH3 + name))\n",
    "    y = np.zeros((4,))\n",
    "    if float(fl_sp[1]) == 0:\n",
    "        y[0] = 1\n",
    "    else:\n",
    "        y[int(fl_sp[1])] = 1\n",
    "    Ytest.append(y)\n",
    "#     break"
   ]
  },
  {
   "cell_type": "code",
   "execution_count": 3,
   "metadata": {
    "collapsed": false
   },
   "outputs": [
    {
     "name": "stdout",
     "output_type": "stream",
     "text": [
      "(3850, 256, 256, 3)\n",
      "(2450, 256, 256, 3)\n",
      "(3850, 4)\n",
      "(2450, 4)\n"
     ]
    }
   ],
   "source": [
    "Xtrain = np.array(Xtrain).astype(\"float\")\n",
    "Ytrain = np.array(Ytrain).astype(\"float\")\n",
    "Xtest = np.array(Xtest).astype(\"float\")\n",
    "Ytest = np.array(Ytest).astype(\"float\")\n",
    "print Xtrain.shape\n",
    "print Xtest.shape\n",
    "print Ytrain.shape\n",
    "print Ytest.shape"
   ]
  },
  {
   "cell_type": "code",
   "execution_count": null,
   "metadata": {
    "collapsed": false
   },
   "outputs": [
    {
     "name": "stdout",
     "output_type": "stream",
     "text": [
      "Training Step: 46  | total loss: \u001b[1m\u001b[32m2.80166\u001b[0m\u001b[0m | time: 72.750s\n",
      "\u001b[2K\r",
      "| Adam | epoch: 002 | loss: 2.80166 - acc: 0.8783 -- iter: 0480/3850\n"
     ]
    }
   ],
   "source": [
    "Xtrain, Ytrain = shuffle(Xtrain, Ytrain)\n",
    "Xtest, Ytest = shuffle(Xtest, Ytest)\n",
    "\n",
    "# Real-time data preprocessing\n",
    "img_prep = ImagePreprocessing()\n",
    "img_prep.add_featurewise_zero_center()\n",
    "img_prep.add_featurewise_stdnorm()\n",
    "\n",
    "# Real-time data augmentation\n",
    "img_aug = ImageAugmentation()\n",
    "img_aug.add_random_flip_leftright()\n",
    "img_aug.add_random_rotation(max_angle=25.)\n",
    "\n",
    "# Convolutional network building\n",
    "network = input_data(shape=[None, 256, 256, 3],\n",
    "                     data_preprocessing=img_prep, data_augmentation=img_aug)\n",
    "network = conv_2d(network, 32, 3, activation='relu')\n",
    "network = max_pool_2d(network, 2)\n",
    "network = conv_2d(network, 64, 3, activation='relu')\n",
    "network = conv_2d(network, 64, 3, activation='relu')\n",
    "network = max_pool_2d(network, 2)\n",
    "network = fully_connected(network, 512, activation='relu')\n",
    "network = dropout(network, 0.5)\n",
    "network = fully_connected(network, 4, activation='softmax')\n",
    "network = regression(network, optimizer='adam',\n",
    "                     loss='categorical_crossentropy',\n",
    "                     learning_rate=0.001)\n",
    "\n",
    "# Train using classifier\n",
    "model = tflearn.DNN(network, tensorboard_verbose=0)\n",
    "model.fit(Xtrain, Ytrain, n_epoch=50, shuffle=True, validation_set=(Xtest, Ytest),\n",
    "          show_metric=True, batch_size=96)"
   ]
  },
  {
   "cell_type": "code",
   "execution_count": null,
   "metadata": {
    "collapsed": true
   },
   "outputs": [],
   "source": []
  }
 ],
 "metadata": {
  "anaconda-cloud": {},
  "kernelspec": {
   "display_name": "Python [conda env:py27]",
   "language": "python",
   "name": "conda-env-py27-py"
  },
  "language_info": {
   "codemirror_mode": {
    "name": "ipython",
    "version": 2
   },
   "file_extension": ".py",
   "mimetype": "text/x-python",
   "name": "python",
   "nbconvert_exporter": "python",
   "pygments_lexer": "ipython2",
   "version": "2.7.12"
  }
 },
 "nbformat": 4,
 "nbformat_minor": 1
}
