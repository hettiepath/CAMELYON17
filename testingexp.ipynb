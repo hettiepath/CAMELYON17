{
 "cells": [
  {
   "cell_type": "code",
   "execution_count": 1,
   "metadata": {
    "collapsed": false
   },
   "outputs": [
    {
     "name": "stderr",
     "output_type": "stream",
     "text": [
      "/Users/surajnair/anaconda/envs/py27/lib/python2.7/site-packages/matplotlib/font_manager.py:273: UserWarning: Matplotlib is building the font cache using fc-list. This may take a moment.\n",
      "  warnings.warn('Matplotlib is building the font cache using fc-list. This may take a moment.')\n"
     ]
    }
   ],
   "source": [
    "from __future__ import division,print_function, absolute_import\n",
    "import numpy as np\n",
    "import tensorflow as tf \n",
    "\n",
    "import skimage\n",
    "from skimage import io\n",
    "\n",
    "# import tflearn\n",
    "# from tflearn.data_utils import shuffle, to_categorical\n",
    "# from tflearn.layers.core import input_data, dropout, fully_connected\n",
    "# from tflearn.layers.conv import conv_2d, max_pool_2d\n",
    "# from tflearn.layers.estimator import regression\n",
    "# from tflearn.data_preprocessing import ImagePreprocessing\n",
    "# from tflearn.data_augmentation import ImageAugmentation\n",
    "\n",
    "\n",
    "# # Real-time data preprocessing\n",
    "# img_prep = ImagePreprocessing()\n",
    "# img_prep.add_featurewise_zero_center()\n",
    "# img_prep.add_featurewise_stdnorm()\n",
    "\n",
    "# # Real-time data augmentation\n",
    "# img_aug = ImageAugmentation()\n",
    "# img_aug.add_random_flip_leftright()\n",
    "# img_aug.add_random_rotation()\n",
    "# img_aug.add_random_blur()\n",
    "\n",
    "# # Convolutional network building\n",
    "# network = input_data(shape=[None, 256, 256, 3],\n",
    "#                      data_preprocessing=img_prep, data_augmentation=img_aug)\n",
    "# network = conv_2d(network, 32, 3, activation='relu')\n",
    "# network = max_pool_2d(network, 2)\n",
    "# network = conv_2d(network, 16, 7, activation='relu')\n",
    "# network = max_pool_2d(network, 2)\n",
    "# network = conv_2d(network, 8, 18, activation='relu')\n",
    "# network = max_pool_2d(network, 2)\n",
    "# network = fully_connected(network, 256, activation='relu')\n",
    "# network = dropout(network, 0.2)\n",
    "# network = fully_connected(network, 4, activation='softmax')\n",
    "# network = regression(network, optimizer='adam',\n",
    "#                      loss='categorical_crossentropy',\n",
    "#                      learning_rate=0.001)\n",
    "\n",
    "# # Train using classifier\n",
    "# model = tflearn.DNN(network, tensorboard_dir = \"logs/\" , tensorboard_verbose=1)\n",
    "# model.load(\"models/run4.tflearn\")\n",
    "\n",
    "\n",
    "DATAPATH = \"/Users/surajnair/Downloads/wfgO4XffLJBKS4ZlxQorLE05Xo0MmwjV/\"\n",
    "DATAPATH3 = \"/Users/surajnair/Downloads/\"\n",
    "\n",
    "pics_mean = []\n",
    "\n",
    "with open(DATAPATH + \"test.txt\") as f:\n",
    "    dt = f.readlines()\n",
    "for fl in dt:\n",
    "    try:\n",
    "        fl_sp = fl.split()\n",
    "        # print fl_sp\n",
    "        name = fl_sp[0]\n",
    "        patient = int(fl_sp[1][1:-1])\n",
    "        node = int(fl_sp[2][1:-1])\n",
    "        if patient >= 100:\n",
    "            # print(np.array([io.imread(DATAPATH3 + name)]))\n",
    "#             y = model.predict(np.array([io.imread(DATAPATH3 + name)]).astype(\"float\"))\n",
    "#             f = open('predictions/run4raw.csv', 'a')\n",
    "#             f.write(str(patient)+\",\" + str(node) + \",\" + str(np.argmax(y[0])) + \"\\n\")\n",
    "            pics_mean.append(np.mean(io.imread(DATAPATH3 + name)))\n",
    "            \n",
    "    except IndexError:\n",
    "        continue\n"
   ]
  },
  {
   "cell_type": "code",
   "execution_count": 6,
   "metadata": {
    "collapsed": false
   },
   "outputs": [
    {
     "data": {
      "text/plain": [
       "(array([  2.02300000e+03,   2.00000000e+00,   0.00000000e+00,\n",
       "          1.00000000e+00,   1.00000000e+00,   2.00000000e+00,\n",
       "          3.00000000e+00,   1.00000000e+00,   0.00000000e+00,\n",
       "          0.00000000e+00,   2.00000000e+00,   1.00000000e+00,\n",
       "          2.00000000e+00,   2.00000000e+00,   4.00000000e+00,\n",
       "          2.00000000e+00,   3.00000000e+00,   8.00000000e+00,\n",
       "          6.00000000e+00,   1.60000000e+01,   2.10000000e+01,\n",
       "          2.90000000e+01,   2.30000000e+01,   3.20000000e+01,\n",
       "          3.10000000e+01,   2.90000000e+01,   1.80000000e+01,\n",
       "          1.90000000e+01,   2.10000000e+01,   1.80000000e+01,\n",
       "          1.50000000e+01,   2.00000000e+01,   1.70000000e+01,\n",
       "          1.80000000e+01,   1.00000000e+01,   1.30000000e+01,\n",
       "          1.70000000e+01,   1.40000000e+01,   2.20000000e+01,\n",
       "          1.70000000e+01,   2.90000000e+01,   5.00000000e+01,\n",
       "          8.10000000e+01,   1.68000000e+02,   4.13000000e+02,\n",
       "          1.56000000e+02,   6.20000000e+01,   1.35000000e+02,\n",
       "          2.42000000e+02,   1.15100000e+03]),\n",
       " array([   0. ,    5.1,   10.2,   15.3,   20.4,   25.5,   30.6,   35.7,\n",
       "          40.8,   45.9,   51. ,   56.1,   61.2,   66.3,   71.4,   76.5,\n",
       "          81.6,   86.7,   91.8,   96.9,  102. ,  107.1,  112.2,  117.3,\n",
       "         122.4,  127.5,  132.6,  137.7,  142.8,  147.9,  153. ,  158.1,\n",
       "         163.2,  168.3,  173.4,  178.5,  183.6,  188.7,  193.8,  198.9,\n",
       "         204. ,  209.1,  214.2,  219.3,  224.4,  229.5,  234.6,  239.7,\n",
       "         244.8,  249.9,  255. ]),\n",
       " <a list of 50 Patch objects>)"
      ]
     },
     "execution_count": 6,
     "metadata": {},
     "output_type": "execute_result"
    },
    {
     "data": {
      "image/png": "[encoded data removed]",
      "text/plain": [
       "<matplotlib.figure.Figure at 0x118a00450>"
      ]
     },
     "metadata": {},
     "output_type": "display_data"
    }
   ],
   "source": [
    "import matplotlib.pyplot as plt\n",
    "%matplotlib inline \n",
    "\n",
    "plt.hist(pics_mean, bins=50)\n"
   ]
  },
  {
   "cell_type": "code",
   "execution_count": null,
   "metadata": {
    "collapsed": true
   },
   "outputs": [],
   "source": []
  }
 ],
 "metadata": {
  "anaconda-cloud": {},
  "kernelspec": {
   "display_name": "Python [conda env:py27]",
   "language": "python",
   "name": "conda-env-py27-py"
  },
  "language_info": {
   "codemirror_mode": {
    "name": "ipython",
    "version": 2
   },
   "file_extension": ".py",
   "mimetype": "text/x-python",
   "name": "python",
   "nbconvert_exporter": "python",
   "pygments_lexer": "ipython2",
   "version": "2.7.12"
  }
 },
 "nbformat": 4,
 "nbformat_minor": 1
}
